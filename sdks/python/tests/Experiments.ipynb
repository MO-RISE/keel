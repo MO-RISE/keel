{
 "cells": [
  {
   "cell_type": "markdown",
   "metadata": {},
   "source": [
    "# Keelson Experiments"
   ]
  },
  {
   "cell_type": "code",
   "execution_count": 4,
   "metadata": {},
   "outputs": [
    {
     "name": "stdout",
     "output_type": "stream",
     "text": [
      "The autoreload extension is already loaded. To reload it, use:\n",
      "  %reload_ext autoreload\n"
     ]
    }
   ],
   "source": [
    "%load_ext autoreload\n",
    "%autoreload 2\n",
    "\n",
    "\n",
    "import time\n",
    "import json\n",
    "import keelson\n",
    "\n",
    "from keelson.payloads.TimestampedFloat_pb2 import TimestampedFloat\n",
    "from keelson.payloads.TimestampedString_pb2 import TimestampedString"
   ]
  },
  {
   "cell_type": "code",
   "execution_count": 5,
   "metadata": {},
   "outputs": [
    {
     "name": "stdout",
     "output_type": "stream",
     "text": [
      "enclosed_at {\n",
      "  seconds: 1727892566\n",
      "  nanos: 537186255\n",
      "}\n",
      "payload: \"test\"\n",
      "\n"
     ]
    },
    {
     "data": {
      "text/plain": [
       "{'received_at': 1727892566537682960,\n",
       " 'enclosed_at': 1727892566537186255,\n",
       " 'source_timestamp': None,\n",
       " 'payload': b'test'}"
      ]
     },
     "execution_count": 5,
     "metadata": {},
     "output_type": "execute_result"
    }
   ],
   "source": [
    "test = b\"test\"\n",
    "\n",
    "message = keelson.enclose(payload=test)\n",
    "\n",
    "envelop_object = keelson.uncover(message)\n",
    "\n",
    "envelop_object"
   ]
  },
  {
   "cell_type": "code",
   "execution_count": 7,
   "metadata": {},
   "outputs": [
    {
     "ename": "TypeError",
     "evalue": "parse_pub_sub_key() missing 1 required positional argument: 'key'",
     "output_type": "error",
     "traceback": [
      "\u001b[0;31m---------------------------------------------------------------------------\u001b[0m",
      "\u001b[0;31mTypeError\u001b[0m                                 Traceback (most recent call last)",
      "Cell \u001b[0;32mIn[7], line 1\u001b[0m\n\u001b[0;32m----> 1\u001b[0m \u001b[43mkeelson\u001b[49m\u001b[38;5;241;43m.\u001b[39;49m\u001b[43mparse_pub_sub_key\u001b[49m\u001b[43m(\u001b[49m\u001b[43m)\u001b[49m\n",
      "\u001b[0;31mTypeError\u001b[0m: parse_pub_sub_key() missing 1 required positional argument: 'key'"
     ]
    }
   ],
   "source": [
    "keelson.parse_req_rep_key()"
   ]
  },
  {
   "cell_type": "code",
   "execution_count": 8,
   "metadata": {},
   "outputs": [
    {
     "name": "stdout",
     "output_type": "stream",
     "text": [
      "**raw** (keelson.primitives.TimestampedBytes)\n",
      "\n",
      "**raw_string** (keelson.primitives.TimestampedString)\n",
      "\n",
      "**raw_json** (keelson.primitives.TimestampedString)\n",
      "\n",
      "**log** (foxglove.Log)\n",
      "\n",
      "**percentage** (keelson.primitives.TimestampedFloat)\n",
      "\n",
      "**degrees** (keelson.primitives.TimestampedFloat)\n",
      "\n",
      "**rpm** (keelson.primitives.TimestampedFloat)\n",
      "\n",
      "**meters** (keelson.primitives.TimestampedFloat)\n",
      "\n",
      "**kilometers** (keelson.primitives.TimestampedFloat)\n",
      "\n",
      "**meters_per_second** (keelson.primitives.TimestampedFloat)\n",
      "\n",
      "**kilometers_per_hour** (keelson.primitives.TimestampedFloat)\n",
      "\n",
      "**nautical_miles** (keelson.primitives.TimestampedFloat)\n",
      "\n",
      "**knots** (keelson.primitives.TimestampedFloat)\n",
      "\n",
      "**network_ping** (keelson.compound.NetworkPing)\n",
      "\n",
      "**network_result** (keelson.compound.NetworkResult)\n",
      "\n",
      "**target** (keelson.compound.Target)\n",
      "\n",
      "**target_description** (keelson.compound.TargetDescription)\n",
      "\n",
      "**configuration_perception_sensor** (keelson.experimental.ConfigurationSensorPerception)\n",
      "\n",
      "**raw_image** (foxglove.RawImage)\n",
      "\n",
      "**compressed_image** (foxglove.CompressedImage)\n",
      "\n",
      "**laser_scan** (foxglove.LaserScan)\n",
      "\n",
      "**radar_spoke** (keelson.compound.RadarSpoke)\n",
      "\n",
      "**radar_sweep** (keelson.compound.RadarSweep)\n",
      "\n",
      "**point_cloud** (foxglove.PointCloud)\n",
      "\n",
      "**point_cloud_simplified** (keelson.experimental.PointCloudSimplified)\n",
      "\n",
      "**imu_reading** (keelson.compound.ImuReading)\n",
      "\n",
      "**sail_control_state** (keelson.compound.SailControlState)\n",
      "\n",
      "**sail_state** (keelson.compound.SailState)\n",
      "\n",
      "**simulation_state** (keelson.compound.SimulationState)\n",
      "\n",
      "**simulation_ship** (keelson.compound.SimulationShip)\n",
      "\n",
      "**thrust_command** (keelson.compound.CommandThruster)\n",
      "\n",
      "**nmea_string** (keelson.primitives.TimestampedString)\n",
      "\n",
      "**nmea_gngns** (keelson.compound.GNGNS)\n",
      "\n",
      "**flight_controller_telemetry_vfrhud** (keelson.experimental.VFRHUD)\n",
      "\n",
      "**flight_controller_telemetry_rawimu** (keelson.experimental.RawIMU)\n",
      "\n",
      "**flight_controller_telemetry_ahrs** (keelson.experimental.AHRS)\n",
      "\n",
      "**flight_controller_telemetry_vibration** (keelson.experimental.Vibration)\n",
      "\n",
      "**flight_controller_telemetry_battery** (keelson.experimental.BatteryStatus)\n",
      "\n",
      "**lever_position_pct** (keelson.primitives.TimestampedFloat)\n",
      "\n",
      "**propeller_rate_rpm** (keelson.primitives.TimestampedFloat)\n",
      "\n",
      "**propeller_pitch_rpm** (keelson.primitives.TimestampedFloat)\n",
      "\n",
      "\n"
     ]
    }
   ],
   "source": [
    "with open('subjects.md', 'r') as file:\n",
    "  subjects_content = file.read()\n",
    "\n",
    "print(subjects_content)"
   ]
  },
  {
   "cell_type": "code",
   "execution_count": null,
   "metadata": {},
   "outputs": [],
   "source": []
  }
 ],
 "metadata": {
  "kernelspec": {
   "display_name": "Python 3",
   "language": "python",
   "name": "python3"
  },
  "language_info": {
   "codemirror_mode": {
    "name": "ipython",
    "version": 3
   },
   "file_extension": ".py",
   "mimetype": "text/x-python",
   "name": "python",
   "nbconvert_exporter": "python",
   "pygments_lexer": "ipython3",
   "version": "3.12.6"
  }
 },
 "nbformat": 4,
 "nbformat_minor": 2
}
