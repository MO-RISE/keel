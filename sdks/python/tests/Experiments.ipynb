{
 "cells": [
  {
   "cell_type": "markdown",
   "metadata": {},
   "source": [
    "# Keelson Experiments"
   ]
  },
  {
   "cell_type": "code",
   "execution_count": 4,
   "metadata": {},
   "outputs": [
    {
     "name": "stdout",
     "output_type": "stream",
     "text": [
      "The autoreload extension is already loaded. To reload it, use:\n",
      "  %reload_ext autoreload\n"
     ]
    }
   ],
   "source": [
    "%load_ext autoreload\n",
    "%autoreload 2\n",
    "\n",
    "\n",
    "import time\n",
    "import json\n",
    "import keelson\n",
    "\n",
    "from keelson.payloads.TimestampedFloat_pb2 import TimestampedFloat\n",
    "from keelson.payloads.TimestampedString_pb2 import TimestampedString"
   ]
  },
  {
   "cell_type": "code",
   "execution_count": 6,
   "metadata": {},
   "outputs": [
    {
     "name": "stdout",
     "output_type": "stream",
     "text": [
      "enclosed_at {\n",
      "  seconds: 1727876638\n",
      "  nanos: 383096181\n",
      "}\n",
      "payload: \"test\"\n",
      "\n"
     ]
    },
    {
     "data": {
      "text/plain": [
       "{'received_at': 1727876638383620292,\n",
       " 'enclosed_at': 1727876638383096181,\n",
       " 'source_timestamp': None,\n",
       " 'payload': b'test'}"
      ]
     },
     "execution_count": 6,
     "metadata": {},
     "output_type": "execute_result"
    }
   ],
   "source": [
    "test = b\"test\"\n",
    "\n",
    "message = keelson.enclose(payload=test)\n",
    "\n",
    "envelop_object = keelson.uncover(message)\n",
    "\n",
    "envelop_object"
   ]
  },
  {
   "cell_type": "code",
   "execution_count": null,
   "metadata": {},
   "outputs": [],
   "source": []
  }
 ],
 "metadata": {
  "kernelspec": {
   "display_name": "Python 3",
   "language": "python",
   "name": "python3"
  },
  "language_info": {
   "codemirror_mode": {
    "name": "ipython",
    "version": 3
   },
   "file_extension": ".py",
   "mimetype": "text/x-python",
   "name": "python",
   "nbconvert_exporter": "python",
   "pygments_lexer": "ipython3",
   "version": "3.12.6"
  }
 },
 "nbformat": 4,
 "nbformat_minor": 2
}
